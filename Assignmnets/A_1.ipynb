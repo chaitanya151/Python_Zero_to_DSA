{
 "cells": [
  {
   "cell_type": "code",
   "execution_count": null,
   "metadata": {},
   "outputs": [],
   "source": [
    "# a = 5\n",
    "# b = 10\n",
    "\n",
    "# print(a > 5 and b >= 10)  # F\n",
    "# print(a >= 5 and not b >= 10)  # F\n",
    "# print(not (a > 5 and b > 10))  # T\n",
    "# print(not (a < 10 or not b < 10))  # F\n",
    "# print(not (not a <= 5 or not b >= 10))  # T"
   ]
  },
  {
   "cell_type": "code",
   "execution_count": 1,
   "metadata": {},
   "outputs": [
    {
     "name": "stdout",
     "output_type": "stream",
     "text": [
      "Distance:10.0 kms\n",
      "Km to Miles: 6.2137119223733395 miles\n"
     ]
    }
   ],
   "source": [
    "# KM to Miles\n",
    "\n",
    "kilometers = float(input(\"Enter the distance in kilometers: \"))\n",
    "print(f\"Distance:{kilometers} kms\")\n",
    "\n",
    "miles = kilometers/1.609344\n",
    "\n",
    "print(f\"Km to Miles: {miles} miles\")"
   ]
  },
  {
   "cell_type": "code",
   "execution_count": 2,
   "metadata": {},
   "outputs": [
    {
     "name": "stdout",
     "output_type": "stream",
     "text": [
      "Avg : 4.0\n"
     ]
    }
   ],
   "source": [
    "# AVG of three numbers\n",
    "\n",
    "num_1 = float(input(\"Num 1: \"))\n",
    "num_2 = float(input(\"Num 2: \"))\n",
    "num_3 = float(input(\"Num 3: \"))\n",
    "\n",
    "avg = (num_1+num_2+num_3)/3\n",
    "print(f\"Avg : {avg}\")"
   ]
  },
  {
   "cell_type": "code",
   "execution_count": 3,
   "metadata": {},
   "outputs": [
    {
     "name": "stdout",
     "output_type": "stream",
     "text": [
      "['D', 'a', 't', 'a', 'B', 'l', 'a', 'c', 'k']\n",
      "DataBlack\n"
     ]
    }
   ],
   "source": [
    "def transform_text(text, ch):\n",
    "    # Create an empty list to hold the new characters\n",
    "    result = []\n",
    "    \n",
    "    # Iterate through each character in the input text\n",
    "    for char in text:\n",
    "        if char == ' ':\n",
    "            # If the character is a space, append the given character instead\n",
    "            result.append(ch)\n",
    "        else:\n",
    "            # Otherwise, append the character itself\n",
    "            result.append(char)\n",
    "    print(result)\n",
    "    # Join the list into a single string and return it\n",
    "    transformed_text1 = ''.join(result)\n",
    "    \n",
    "    # Remove any spaces that might still be present (none in this case)\n",
    "    # final_text = ''.join([c for c in transformed_text if c != ' '])\n",
    "    \n",
    "    # return final_text\n",
    "    return transformed_text1\n",
    "\n",
    "text = \"D t Bl ck\"\n",
    "ch = \"a\"\n",
    "output = transform_text(text, ch)\n",
    "print(output)  # Output should be \"DataBlack\""
   ]
  },
  {
   "cell_type": "code",
   "execution_count": 4,
   "metadata": {},
   "outputs": [
    {
     "name": "stdout",
     "output_type": "stream",
     "text": [
      "4\n"
     ]
    }
   ],
   "source": [
    "a = int(input())\n",
    "b = int(input())\n",
    "c = int(input())\n",
    "def three_num(a:int, b:int, c:int):\n",
    "    if a>=b and a>=c:\n",
    "        return a\n",
    "    elif b>=c and b>=c:\n",
    "        return b\n",
    "    else:\n",
    "        return c\n",
    "\n",
    "largest = three_num(a,b,c)\n",
    "print(largest)"
   ]
  }
 ],
 "metadata": {
  "kernelspec": {
   "display_name": "Python 3",
   "language": "python",
   "name": "python3"
  },
  "language_info": {
   "codemirror_mode": {
    "name": "ipython",
    "version": 3
   },
   "file_extension": ".py",
   "mimetype": "text/x-python",
   "name": "python",
   "nbconvert_exporter": "python",
   "pygments_lexer": "ipython3",
   "version": "3.11.5"
  }
 },
 "nbformat": 4,
 "nbformat_minor": 2
}
